{
  "nbformat": 4,
  "nbformat_minor": 0,
  "metadata": {
    "colab": {
      "name": "BIN3100 ML S3- Case_studies",
      "provenance": [],
      "collapsed_sections": [],
      "include_colab_link": true
    },
    "kernelspec": {
      "name": "python3",
      "display_name": "Python 3"
    }
  },
  "cells": [
    {
      "cell_type": "markdown",
      "metadata": {
        "id": "view-in-github",
        "colab_type": "text"
      },
      "source": [
        "<a href=\"https://colab.research.google.com/github/evangelav/Machine_Learning/blob/main/BIN3100_ML_S3_Case_studies.ipynb\" target=\"_parent\"><img src=\"https://colab.research.google.com/assets/colab-badge.svg\" alt=\"Open In Colab\"/></a>"
      ]
    },
    {
      "cell_type": "markdown",
      "metadata": {
        "id": "GwNPr1HKgrmH"
      },
      "source": [
        "#BIN3100 ML S3 \n",
        "\n",
        "## Théorie: Lectures obligatoires\n",
        "\n",
        "1. Voici la première vidéo: [PYTHON SKLEARN: KNN, LinearRegression et SUPERVISED LEARNING (20/30)](https://www.youtube.com/watch?v=P6kSc3qVph0&list=PLO_fdPEVlfKqMDNmCFzQISI2H_nJcEDJq&index=20). En suivant le lien ci-après, vous trouverez toutes les informations dont vous avez besoin pour cette étude de cas: [data set](https://www.kaggle.com/c/titanic/data).\n",
        "\n",
        "2. Lire [le chapitre 2 \"End-to-End Machine Learning Project\" du livre Hands-On Machine Learning with Scikit-Learn & TensorFlow (pages 55 à 99 du pdf) (pages 33 à 77 du livre)](https://hevinci.sharepoint.com/:b:/s/GroupeBINV3100_IA_2021-2022/EWj2jCwuZmtFtQSzLDNarVYBSEJlLgb2t-t7r7Lg_ZljnA?e=HYsG1G)\n"
      ]
    },
    {
      "cell_type": "markdown",
      "metadata": {
        "id": "0kaolZSOeOYn"
      },
      "source": [
        "##  Une étude de cas: qui survivra au terrible naufrage du Titanic?"
      ]
    },
    {
      "cell_type": "markdown",
      "metadata": {
        "id": "t35vsVZdhtVp"
      },
      "source": [
        "##Quel objectif initial vous êtes-vous fixé?"
      ]
    },
    {
      "cell_type": "markdown",
      "metadata": {
        "id": "YvsHREABh7ty"
      },
      "source": [
        "<font color='red'> Répondez à cette question ici\n",
        "\n",
        "---\n",
        "\n",
        "\n"
      ]
    },
    {
      "cell_type": "markdown",
      "metadata": {
        "id": "C6r0_Cediieg"
      },
      "source": [
        "##Exploration des données"
      ]
    },
    {
      "cell_type": "markdown",
      "metadata": {
        "id": "OjWr5EL5j0Am"
      },
      "source": [
        "Exploratory Data Analysis\n",
        "\n",
        "Objectif: comprendre au maximum les données dont on dispose pour définir une stratégie de modélisation.\n",
        "\n",
        "\n",
        "1.   Analyse de la forme:\n",
        "\n",
        "  a. Identification de la target: <font color='red'> Quel est votre target? </font>\n",
        "\n",
        "  b. Nombre des lignes et de colonnes: <font color='red'> Quelle est la forme de votre dataset? </font>\n",
        "\n",
        "  c. Identification des valeurs manquantes: <font color='red'> Le dataset contient-il des données manquantes? </font>\n",
        "\n",
        "  d. Types de variables: <font color='red'> Quelles sont les types de vos données?</font>\n",
        "\n",
        "2.   Analyse du fond:\n",
        "\n",
        "  a. Visualisation de la target <font color='red'>\n",
        "\n",
        "\tb. Compréhension des différentes variables\n",
        "\n",
        "\tc. Visualisation des relations"
      ]
    },
    {
      "cell_type": "markdown",
      "metadata": {
        "id": "S9QVj2GXpfC3"
      },
      "source": [
        "<font color='red'>Analyse de la forme: Répondez-ici </font>\n",
        "\n"
      ]
    },
    {
      "cell_type": "markdown",
      "metadata": {
        "id": "j5ih2laAlov0"
      },
      "source": [
        "\n",
        "<font color='red'> Analyse de fond Répondez-ici </font>"
      ]
    },
    {
      "cell_type": "markdown",
      "metadata": {
        "id": "bFk-lObYVBK7"
      },
      "source": [
        "##Construisez votre modèle ici"
      ]
    },
    {
      "cell_type": "code",
      "metadata": {
        "id": "i91Ee2Arvo20"
      },
      "source": [
        ""
      ],
      "execution_count": null,
      "outputs": []
    },
    {
      "cell_type": "markdown",
      "metadata": {
        "id": "y03s4lHNfIfB"
      },
      "source": [
        "##Testez votre modèle ici"
      ]
    },
    {
      "cell_type": "code",
      "metadata": {
        "id": "7RIQuQ8_fPfD"
      },
      "source": [
        ""
      ],
      "execution_count": null,
      "outputs": []
    },
    {
      "cell_type": "markdown",
      "metadata": {
        "id": "STW0Nb-3kNIa"
      },
      "source": [
        "## La meilleure valeur de voisin\n",
        "\n",
        "Écrivez un programme qui permet de trouver la meilleure valeur de voisin n_neighbors possible pour le modele de KNeighborsClassifier."
      ]
    },
    {
      "cell_type": "code",
      "metadata": {
        "id": "TGJJsq1SkmWt"
      },
      "source": [
        ""
      ],
      "execution_count": null,
      "outputs": []
    },
    {
      "cell_type": "markdown",
      "metadata": {
        "id": "ooJ2416shCn3"
      },
      "source": [
        "#Kit Lego\n",
        "\n",
        "Après avoir lu le chapitre 2 du livre Hands-On Machine Learning with Scikit-Learn & TensorFlow, nous vous demandons de mettre en pratique la matière de ce chapitre avec un nouveau jeu de données [sem03.zip](https://hevinci.sharepoint.com/:u:/s/GroupeBINV3100_IA_2021-2022/EZ5NQkmvkvxGj-S3UBBsCOsBDOV9-2H02Ee4uZ1xjd9KXg?e=VjxDd0) contenant des informations sur des kits Légo. \n",
        "Voici quelques informations sur ce jeu de données.\n",
        "\n",
        "## 1\tCONTEXT\n",
        "Have you ever wondered what is the most expensive lego set in the world? Or how many pieces does the Taj Mahal set contain? What about, how these features might interact with each other? I wanted to answer some of these questions and more, so I scraped lego set and price information from Lego's website.\n",
        "## 2\tCONTENT\n",
        "\n",
        "This dataset contains lego sets scraped from lego.com. Each observation is a different Légo set and there are features like how many pieces are in the set, how much the set sells for, etc. This dataset contains lego sets from all the different countries they sell online to (except South Korea).\n",
        "\n",
        "## 3\tTRAIN.CSV\n",
        "\n",
        "Vous trouverez sur mooVin un fichier « [train.csv](https://hevinci.sharepoint.com/:x:/s/GroupeBINV3100_IA_2021-2022/Ebnsvc_7IyNMivWlxYSKNQEBqhUFYQ5He7p5Kjttltybag?e=vDYWRX) », ce fichier contient des informations à propos de 9195 kits Légo.  Chaque kit est décrit à l’aide des informations suivantes  :\n",
        "\n",
        "1.\tages\n",
        "2.\tlist_price\n",
        "3.\tnum_reviews\n",
        "4.\tpiece_count\n",
        "5.\tplay_star_rating\n",
        "6.\tprod_desc\n",
        "7.\tprod_id\n",
        "8.\tprod_long_desc\n",
        "9.\treview_difficulty\n",
        "10.\tset_name\n",
        "11.\tstar_rating\n",
        "12.\ttheme_name\n",
        "13.\tval_star_rating\n",
        "14.\tcountry\n",
        "\n",
        "Attention ce fichier n’est peut-être pas très « propre », pensez à le nettoyer\n",
        "\n",
        "## 4\tBUT DE L’EXERCICE\n",
        "Le but de cet exercice est d’entrainer, à l’aide des informations contenues dans le fichier « [train.csv](https://hevinci.sharepoint.com/:x:/s/GroupeBINV3100_IA_2021-2022/Ebnsvc_7IyNMivWlxYSKNQEBqhUFYQ5He7p5Kjttltybag?e=vDYWRX) », un premier « machine learning model » afin de prédire le prix de nouveaux kits Légo.\n",
        "\n",
        "Le fichier « [test.csv](https://hevinci.sharepoint.com/:x:/s/GroupeBINV3100_IA_2021-2022/ER-u2ACcP_dEllwtK2BuhIwBPjt97f0qqrsaraSdF3FKiw?e=HnKSeT) » contient les mêmes informations, à propos de 3066 kits Légo, que le fichier « train.csv ». Excepté la colonne « list_price » qui n’est pas présente! Une fois votre modèle entraîné, c’est à vous de deviner le prix de ces 3066 kits.\n",
        "\n",
        "Pour le dimanche 10/10/2021 à 23h59, ceux qui le souhaitent peuvent soumettre sur mooVin un fichier csv contenant pour chaque kit le prix prédit. Pour chaque kit, votre fichier csv contiendra une ligne reprenant uniquement le prix prédit. Les prix doivent évidemment apparaître dans le même ordre que les ligne du fichier « test.csv ». Nous évaluerons vos prédictions à l’aide du « Root Mean Square Error »."
      ]
    },
    {
      "cell_type": "code",
      "metadata": {
        "id": "fEklwwHrjUGy"
      },
      "source": [
        ""
      ],
      "execution_count": null,
      "outputs": []
    }
  ]
}