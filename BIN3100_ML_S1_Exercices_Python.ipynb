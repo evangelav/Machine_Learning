{
  "nbformat": 4,
  "nbformat_minor": 0,
  "metadata": {
    "colab": {
      "name": "BIN3100 ML S1 - Exercices Python.ipynb",
      "provenance": [],
      "collapsed_sections": [],
      "include_colab_link": true
    },
    "kernelspec": {
      "name": "python3",
      "display_name": "Python 3"
    }
  },
  "cells": [
    {
      "cell_type": "markdown",
      "metadata": {
        "id": "view-in-github",
        "colab_type": "text"
      },
      "source": [
        "<a href=\"https://colab.research.google.com/github/evangelav/Machine_Learning/blob/main/BIN3100_ML_S1_Exercices_Python.ipynb\" target=\"_parent\"><img src=\"https://colab.research.google.com/assets/colab-badge.svg\" alt=\"Open In Colab\"/></a>"
      ]
    },
    {
      "cell_type": "markdown",
      "metadata": {
        "id": "izNF2XW2ziZZ"
      },
      "source": [
        "#BIN3100 ML S1: Théorie\n",
        "\n",
        "Voici la playlist des vidéos de cette année. Durant les 10 semaines de cours, nous étudierons une grande partie de ces vidéos: \n",
        "\n",
        "[https://www.youtube.com/playlist?list=PLO_fdPEVlfKqMDNmCFzQISI2H_nJcEDJq](https://www.youtube.com/playlist?list=PLO_fdPEVlfKqMDNmCFzQISI2H_nJcEDJq)\n",
        "\n",
        "##Vidéos obligatoires\n",
        "Nous vous demandons de regarder et de compredre les vidéos suivante:\n",
        "\n",
        "1.   [PYTHON VARIABLES ET FONCTIONS (15:02)](https://www.youtube.com/watch?v=doFpNjdmsw8&list=PLO_fdPEVlfKqMDNmCFzQISI2H_nJcEDJq&index=2)\n",
        "2.   [PYTHON IF/ELSE, WHILE, FOR (13:17)](https://www.youtube.com/watch?v=x_Jeyvw7n9I&list=PLO_fdPEVlfKqMDNmCFzQISI2H_nJcEDJq&index=3)\n",
        "3.   [PYTHON LISTES et TUPLES (18:55)](https://www.youtube.com/watch?v=5UOSiCPu5aM&list=PLO_fdPEVlfKqMDNmCFzQISI2H_nJcEDJq&index=4)\n",
        "4.   [PYTHON DICTIONNAIRES  (12:22)](https://www.youtube.com/watch?v=5UOSiCPu5aM&list=PLO_fdPEVlfKqMDNmCFzQISI2H_nJcEDJq&index=5)\n",
        "5.   [PYTHON LIST DICT COMPREHENSION (12:05)](https://www.youtube.com/watch?v=5UOSiCPu5aM&list=PLO_fdPEVlfKqMDNmCFzQISI2H_nJcEDJq&index=6)\n",
        "6.   [PYTHON BUILT-IN FUNCTIONS (20:40)](https://www.youtube.com/watch?v=5UOSiCPu5aM&list=PLO_fdPEVlfKqMDNmCFzQISI2H_nJcEDJq&index=7)\n",
        "\n",
        "\n",
        "A la fin de chaque vidéo, un exercice est proposé. Vous retrouverez ces exercices dans la Partie 1 des exercices de cette semaine\n",
        "\n",
        "## Les vidéos suivantes sont en bonus:\n",
        "\n",
        "7.  [PYTHON MODULES ET PACKAGES (20:08)](https://www.youtube.com/watch?v=5UOSiCPu5aM&list=PLO_fdPEVlfKqMDNmCFzQISI2H_nJcEDJq&index=8)\n",
        "8.  [PYTHON PROGRAMMATION ORIENTÉE OBJET et impact en machine learning (10:05)](https://www.youtube.com/watch?v=5UOSiCPu5aM&list=PLO_fdPEVlfKqMDNmCFzQISI2H_nJcEDJq&index=9)"
      ]
    },
    {
      "cell_type": "markdown",
      "metadata": {
        "id": "a5EJ9w1b7j3D"
      },
      "source": [
        "#BIN3100 ML S1: Exercices\n",
        "\n",
        "Nous vous demandons de créer une copie personnelle de ce Colab et de la compléter pour répondre aux exercices demandés. \n",
        "\n",
        "**En semaine 2**, nous vous demanderons de créer un lien de partage et de soumettre celui-ci dans un devoir Moodle. Laissez le Notebook avec les celules de résultats."
      ]
    },
    {
      "cell_type": "markdown",
      "metadata": {
        "id": "-uppRJUdzfbk"
      },
      "source": [
        "##Partie 1: Exercices relatifs aux Vidéos Machine Learnia\n",
        "\n",
        "\n"
      ]
    },
    {
      "cell_type": "markdown",
      "metadata": {
        "id": "mw4o-bumzvPa"
      },
      "source": [
        "### Vidéo (2/30): \n",
        "[PYTHON VARIABLES ET FONCTIONS](https://www.youtube.com/watch?v=doFpNjdmsw8&list=PLO_fdPEVlfKqMDNmCFzQISI2H_nJcEDJq&index=2) (15:02)\n",
        "\n",
        "Modifiez la fonction e_potentielle définie ci-dessous pour retourner une valeur indiquant si l'energie calculée est supérieure ou inférieur a une energie_limite passée en tant que 4eme argument.\n"
      ]
    },
    {
      "cell_type": "code",
      "metadata": {
        "id": "J9qfiubk0sfb",
        "outputId": "34608a5b-0d00-4a8f-f115-132301110dee",
        "colab": {
          "base_uri": "https://localhost:8080/"
        }
      },
      "source": [
        "# Exemple concret : fonction qui calcul l'energie potentielle d'un corps\n",
        "\n",
        "def e_potentielle(masse, hauteur, e_limite, g=9.81):\n",
        "  energie = masse * hauteur * g \n",
        "\n",
        "  return energie > e_limite\n",
        "\n",
        "# ici g a une valeur par défaut donc nous ne sommes pas obligé de lui donner une valeur\n",
        "e_potentielle(masse=10, hauteur=10, e_limite=5000)"
      ],
      "execution_count": 2,
      "outputs": [
        {
          "output_type": "execute_result",
          "data": {
            "text/plain": [
              "False"
            ]
          },
          "metadata": {},
          "execution_count": 2
        }
      ]
    },
    {
      "cell_type": "markdown",
      "metadata": {
        "id": "2jyfyqUY14tN"
      },
      "source": [
        "### Vidéo (3/30): \n",
        "[PYTHON IF/ELSE, WHILE, FOR](https://www.youtube.com/watch?v=x_Jeyvw7n9I&list=PLO_fdPEVlfKqMDNmCFzQISI2H_nJcEDJq&index=3) (13:17)\n",
        "\n",
        "Implémentez la suite de Fibonacci [0, 1, 1, 2, 3, 5, 8, 13, 21, ...] qui part de 2 nombres a=0 et b=1, et qui calcule le nombre suivant en additionnant les 2 nombres précédents.\n",
        "\n",
        "Indices :\n",
        "\n",
        "*   Pour cet exercice vous aurez besoin d'une bouce While\n",
        "*   Vous pouvez imprimer cette suite jusqu'a atteindre un nombre n que vous aurez choisit\n",
        "*   Avec, python il est possible de mettre a jour 2 variables simultannément sur la meme lignes : a, b = b, a+b"
      ]
    },
    {
      "cell_type": "code",
      "metadata": {
        "id": "cAnIYojL2slB",
        "outputId": "5180f234-eaec-48cc-8b4c-731c5f9caff4",
        "colab": {
          "base_uri": "https://localhost:8080/"
        }
      },
      "source": [
        "def fibonacci(n):\n",
        "    # retourne une liste contenant la suite de fibonacci jusqu'a n\n",
        "    i = 0\n",
        "    y = 1\n",
        "    \n",
        "    somme = i+y\n",
        "    while i < n:\n",
        "      print(i)\n",
        "      i = y\n",
        "      y = somme\n",
        "      somme = i+y \n",
        "\n",
        "fibonacci(1000)"
      ],
      "execution_count": 8,
      "outputs": [
        {
          "output_type": "stream",
          "name": "stdout",
          "text": [
            "0\n",
            "1\n",
            "1\n",
            "2\n",
            "3\n",
            "5\n",
            "8\n",
            "13\n",
            "21\n",
            "34\n",
            "55\n",
            "89\n",
            "144\n",
            "233\n",
            "377\n",
            "610\n",
            "987\n"
          ]
        }
      ]
    },
    {
      "cell_type": "markdown",
      "metadata": {
        "id": "UgMY2Q6C32X7"
      },
      "source": [
        "###Vidéo (4/30):\n",
        "\n",
        "[PYTHON LISTES et TUPLES (18:55)](https://www.youtube.com/watch?v=5UOSiCPu5aM&list=PLO_fdPEVlfKqMDNmCFzQISI2H_nJcEDJq&index=4)\n",
        "\n",
        "Transformer le code précédent qui donne la suite de Fibonacci pour enregistrer les résultats dans une liste et retourner cette liste a la fin de la fonction"
      ]
    },
    {
      "cell_type": "code",
      "metadata": {
        "id": "uWvq5v3_ywHx",
        "outputId": "1f2237ee-5752-4a04-c795-0885d742a4d4",
        "colab": {
          "base_uri": "https://localhost:8080/"
        }
      },
      "source": [
        "def fibonacci2(n):\n",
        "    # retourne une liste contenant la suite de fibonacci jusqu'a n\n",
        "    liste =[]\n",
        "    i = 0\n",
        "    y = 1\n",
        "    \n",
        "    somme = i+y\n",
        "    while i < n:\n",
        "      liste.append(i)\n",
        "      i = y\n",
        "      y = somme\n",
        "      somme = i+y \n",
        "    return liste\n",
        "\n",
        "liste_result = fibonacci2(1000)\n",
        "liste_result"
      ],
      "execution_count": 10,
      "outputs": [
        {
          "output_type": "execute_result",
          "data": {
            "text/plain": [
              "[0, 1, 1, 2, 3, 5, 8, 13, 21, 34, 55, 89, 144, 233, 377, 610, 987]"
            ]
          },
          "metadata": {},
          "execution_count": 10
        }
      ]
    },
    {
      "cell_type": "markdown",
      "metadata": {
        "id": "z1UAHDy56fW0"
      },
      "source": [
        "###Vidéo (5/30):\n",
        "\n",
        "[PYTHON DICTIONNAIRES  (12:22)](https://www.youtube.com/watch?v=5UOSiCPu5aM&list=PLO_fdPEVlfKqMDNmCFzQISI2H_nJcEDJq&index=5)\n",
        "\n",
        "Implémentez une fonction trier(classeur, valeur) qui place une valeur dans un dictionnaire en fonction de son signe"
      ]
    },
    {
      "cell_type": "code",
      "metadata": {
        "id": "avhzzvBNTy5f",
        "outputId": "0a92d041-5170-4cd0-a7be-a4ab9f63264f",
        "colab": {
          "base_uri": "https://localhost:8080/"
        }
      },
      "source": [
        "classeur = {'négatifs':[],\n",
        "            'positifs':[]\n",
        "            }\n",
        "\n",
        "def trier(classeur, valeur):\n",
        "  if valeur < 0:\n",
        "    classeur.get('négatifs').append(valeur)\n",
        "    \n",
        "  else:\n",
        "    classeur.get('positifs').append(valeur)\n",
        "\n",
        "trier(classeur, -1)\n",
        "trier(classeur, 1)\n",
        "trier(classeur, 10)\n",
        "trier(classeur, -6)\n",
        "trier(classeur, -3)\n",
        "trier(classeur, 70)\n",
        "\n",
        "for k, v in classeur.items():\n",
        "  print(k, v)\n"
      ],
      "execution_count": 16,
      "outputs": [
        {
          "output_type": "stream",
          "name": "stdout",
          "text": [
            "négatifs [-1, -6, -3]\n",
            "positifs [1, 10, 70]\n"
          ]
        }
      ]
    },
    {
      "cell_type": "markdown",
      "metadata": {
        "id": "IU5zbzD57BAP"
      },
      "source": [
        "###Vidéo (6/30):\n",
        "\n",
        "[PYTHON LIST DICT COMPREHENSION (12:05)](https://www.youtube.com/watch?v=5UOSiCPu5aM&list=PLO_fdPEVlfKqMDNmCFzQISI2H_nJcEDJq&index=6)\n",
        "\n",
        "Créer un dictionnaire qui contienne des clefs de 1 a 20, avec comme valeur le carré de chaque clef"
      ]
    },
    {
      "cell_type": "code",
      "metadata": {
        "colab": {
          "base_uri": "https://localhost:8080/"
        },
        "id": "KgGgWfbVURiR",
        "outputId": "aee067ed-e469-4d50-f4da-5afdededd860"
      },
      "source": [
        "dictionnaire = {\n",
        "    str(k) : k**2 for k in range(0,20)\n",
        "}\n",
        "\n",
        "print(dictionnaire)"
      ],
      "execution_count": 24,
      "outputs": [
        {
          "output_type": "stream",
          "name": "stdout",
          "text": [
            "{'0': 0, '1': 1, '2': 4, '3': 9, '4': 16, '5': 25, '6': 36, '7': 49, '8': 64, '9': 81, '10': 100, '11': 121, '12': 144, '13': 169, '14': 196, '15': 225, '16': 256, '17': 289, '18': 324, '19': 361}\n"
          ]
        }
      ]
    },
    {
      "cell_type": "markdown",
      "metadata": {
        "id": "HzTj94987UnT"
      },
      "source": [
        "###Vidéo (7/30):\n",
        "\n",
        "[PYTHON BUILT-IN FUNCTIONS (20:40)](https://www.youtube.com/watch?v=5UOSiCPu5aM&list=PLO_fdPEVlfKqMDNmCFzQISI2H_nJcEDJq&index=7)\n",
        "\n",
        "Le code ci-dessous permet de créer un fichier qui contient les nombres carrée de 0 jusqu'a 19. L'exercice est d'implémenter un code qui permet de lire ce fichier et d'écrire chaque ligne dans une liste.\n",
        "\n",
        "\n",
        "*   La fonction read().splitlines() sera tres utile.\n",
        "*   Dans un premier temps, **n'utilisez pas** les listes comprehension.\n",
        "*   Dans un second temps, **utilisez** les listes comprehension. "
      ]
    },
    {
      "cell_type": "code",
      "metadata": {
        "id": "EEIli1aRlF6D",
        "outputId": "d01763ee-5c67-4f29-dabc-74205cb3000e",
        "colab": {
          "base_uri": "https://localhost:8080/"
        }
      },
      "source": [
        "with open('fichier.txt', 'w') as f:\n",
        "    for i in range(0, 20):\n",
        "        f.write(f'{i}: {i**2}\\n')\n",
        "    f.close()\n",
        "\n",
        "liste_nocomprehension = []\n",
        "for ch in open('fichier.txt', 'r').read():\n",
        "  type(ch)\n",
        "  liste_nocomprehension.append(ch)\n",
        "\n",
        "liste_withcomprehension = [ch for ch in open('fichier.txt', 'r').read().splitlines()]\n",
        "\n",
        "\n",
        "print('no comprehension')\n",
        "liste_nocomprehension\n",
        "print('with comprehension')\n",
        "liste_withcomprehension"
      ],
      "execution_count": 34,
      "outputs": [
        {
          "output_type": "stream",
          "name": "stdout",
          "text": [
            "no comprehension\n",
            "with comprehension\n"
          ]
        },
        {
          "output_type": "execute_result",
          "data": {
            "text/plain": [
              "['0: 0',\n",
              " '1: 1',\n",
              " '2: 4',\n",
              " '3: 9',\n",
              " '4: 16',\n",
              " '5: 25',\n",
              " '6: 36',\n",
              " '7: 49',\n",
              " '8: 64',\n",
              " '9: 81',\n",
              " '10: 100',\n",
              " '11: 121',\n",
              " '12: 144',\n",
              " '13: 169',\n",
              " '14: 196',\n",
              " '15: 225',\n",
              " '16: 256',\n",
              " '17: 289',\n",
              " '18: 324',\n",
              " '19: 361']"
            ]
          },
          "metadata": {},
          "execution_count": 34
        }
      ]
    },
    {
      "cell_type": "markdown",
      "metadata": {
        "id": "glcUyilqZ6FU"
      },
      "source": [
        "## Partie 2: Exercice Machine Learning semaine 1"
      ]
    },
    {
      "cell_type": "markdown",
      "metadata": {
        "id": "xBQpEhC0a1eD"
      },
      "source": [
        "*Pour* ces exercices, nous vous demandons de **ne pas utiliser Pandas**!\n",
        "\n"
      ]
    },
    {
      "cell_type": "markdown",
      "metadata": {
        "id": "zvmM8BJaggq3"
      },
      "source": [
        "### Exercice 1: lecture fichier CSV et dictionnaire\n",
        "Ecrivez une fonction ```lireTemperatures(nomDeFichier)``` qui lira le fichier csv dont le nom est donné en paramètre. Celui sera structuré de la façon suivante: \n",
        "\n",
        "Chaque ligne contient le nom d'une ville suivi de 365 nombres flottants représentant la température jour par jour. La première valeur sera la température au 1er janvier, la deuxième au 2 janvier et la 365eme au celle au 31 décembre. On supposera qu'il ne s'agit pas d'une année bisextile. Les valeures sont séparée par des virules (c'est un csv).\n",
        "\n",
        "Vous trouverez sur moodle un fichier appelé ```temperatures.csv``` structurée de cette façon.\n",
        "\n",
        "Enregistrez les données lues dans un dictionnaire dont la clef est le nom de la ville et la valeur est une liste de nombres.\n",
        "\n",
        "\n",
        "\n",
        "\n",
        "\n"
      ]
    },
    {
      "cell_type": "code",
      "metadata": {
        "id": "bjlZJ2xVge7-"
      },
      "source": [
        "# votre code et vos exemples ici (faites plusieurs cellules)\n",
        "print('TODO')"
      ],
      "execution_count": null,
      "outputs": []
    },
    {
      "cell_type": "markdown",
      "metadata": {
        "id": "Rw_2NiryggCv"
      },
      "source": [
        "### Exercice 2: Manipulation de listes\n",
        "Ecrivez une fonction ```calendrier_temperature(temperatures, ville)``` où ```temperatures``` est un dictionnaire tel que celui créé à la question précédente et ```ville``` est le nom d'une ville.\n",
        "Cette fonction renvoie un nouveau dictionnaire où la clef est le nom d'un mois et la valeur correspondante est la liste des températures de ce mois dans l'ordre chronologique.\n",
        "\n",
        "Utilisez les capacités de découpage de liste de Python pour obtenir un code compact et lisible.\n"
      ]
    },
    {
      "cell_type": "code",
      "metadata": {
        "id": "NXbTxAPtmxgg"
      },
      "source": [
        "print('TODO')"
      ],
      "execution_count": null,
      "outputs": []
    },
    {
      "cell_type": "markdown",
      "metadata": {
        "id": "qav99w8umzbQ"
      },
      "source": [
        "### Exercice 3: List Comprehension\n",
        "Ecrivez une fonction ```jours_de_gel(cal_temp, mois)``` où ```cal_temp``` est un dictionnaire tel que celui créé à l'exercice 2 et ```mois``` est le nom d'un mois.\n",
        "\n",
        "Cette fonction renverra la liste des des températures en dessous du point de congélation. Comme les températures sont en Farenheit, ce sont celles strictement en dessous de 32 degrés.\n",
        "Ex: Si pour un moi on a la liste suivante: [45, 43, 34, 30, 42, 33, 38] on renverra [34, 30, 33].\n",
        "\n",
        "Utilisez les list comprehensions pour extraire cette information."
      ]
    },
    {
      "cell_type": "code",
      "metadata": {
        "id": "qiptsA6lpwZS"
      },
      "source": [
        "print('TODO')"
      ],
      "execution_count": null,
      "outputs": []
    }
  ]
}