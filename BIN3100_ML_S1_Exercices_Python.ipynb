{
  "nbformat": 4,
  "nbformat_minor": 0,
  "metadata": {
    "colab": {
      "name": "BIN3100 ML S1 - Exercices Python.ipynb",
      "provenance": [],
      "collapsed_sections": [],
      "include_colab_link": true
    },
    "kernelspec": {
      "name": "python3",
      "display_name": "Python 3"
    }
  },
  "cells": [
    {
      "cell_type": "markdown",
      "metadata": {
        "id": "view-in-github",
        "colab_type": "text"
      },
      "source": [
        "<a href=\"https://colab.research.google.com/github/evangelav/Machine_Learning/blob/main/BIN3100_ML_S1_Exercices_Python.ipynb\" target=\"_parent\"><img src=\"https://colab.research.google.com/assets/colab-badge.svg\" alt=\"Open In Colab\"/></a>"
      ]
    },
    {
      "cell_type": "markdown",
      "metadata": {
        "id": "izNF2XW2ziZZ"
      },
      "source": [
        "#BIN3100 ML S1: Théorie\n",
        "\n",
        "Voici la playlist des vidéos de cette année. Durant les 10 semaines de cours, nous étudierons une grande partie de ces vidéos: \n",
        "\n",
        "[https://www.youtube.com/playlist?list=PLO_fdPEVlfKqMDNmCFzQISI2H_nJcEDJq](https://www.youtube.com/playlist?list=PLO_fdPEVlfKqMDNmCFzQISI2H_nJcEDJq)\n",
        "\n",
        "##Vidéos obligatoires\n",
        "Nous vous demandons de regarder et de compredre les vidéos suivante:\n",
        "\n",
        "1.   [PYTHON VARIABLES ET FONCTIONS (15:02)](https://www.youtube.com/watch?v=doFpNjdmsw8&list=PLO_fdPEVlfKqMDNmCFzQISI2H_nJcEDJq&index=2)\n",
        "2.   [PYTHON IF/ELSE, WHILE, FOR (13:17)](https://www.youtube.com/watch?v=x_Jeyvw7n9I&list=PLO_fdPEVlfKqMDNmCFzQISI2H_nJcEDJq&index=3)\n",
        "3.   [PYTHON LISTES et TUPLES (18:55)](https://www.youtube.com/watch?v=5UOSiCPu5aM&list=PLO_fdPEVlfKqMDNmCFzQISI2H_nJcEDJq&index=4)\n",
        "4.   [PYTHON DICTIONNAIRES  (12:22)](https://www.youtube.com/watch?v=5UOSiCPu5aM&list=PLO_fdPEVlfKqMDNmCFzQISI2H_nJcEDJq&index=5)\n",
        "5.   [PYTHON LIST DICT COMPREHENSION (12:05)](https://www.youtube.com/watch?v=5UOSiCPu5aM&list=PLO_fdPEVlfKqMDNmCFzQISI2H_nJcEDJq&index=6)\n",
        "6.   [PYTHON BUILT-IN FUNCTIONS (20:40)](https://www.youtube.com/watch?v=5UOSiCPu5aM&list=PLO_fdPEVlfKqMDNmCFzQISI2H_nJcEDJq&index=7)\n",
        "\n",
        "\n",
        "A la fin de chaque vidéo, un exercice est proposé. Vous retrouverez ces exercices dans la Partie 1 des exercices de cette semaine\n",
        "\n",
        "## Les vidéos suivantes sont en bonus:\n",
        "\n",
        "7.  [PYTHON MODULES ET PACKAGES (20:08)](https://www.youtube.com/watch?v=5UOSiCPu5aM&list=PLO_fdPEVlfKqMDNmCFzQISI2H_nJcEDJq&index=8)\n",
        "8.  [PYTHON PROGRAMMATION ORIENTÉE OBJET et impact en machine learning (10:05)](https://www.youtube.com/watch?v=5UOSiCPu5aM&list=PLO_fdPEVlfKqMDNmCFzQISI2H_nJcEDJq&index=9)"
      ]
    },
    {
      "cell_type": "markdown",
      "metadata": {
        "id": "a5EJ9w1b7j3D"
      },
      "source": [
        "#BIN3100 ML S1: Exercices\n",
        "\n",
        "Nous vous demandons de créer une copie personnelle de ce Colab et de la compléter pour répondre aux exercices demandés. \n",
        "\n",
        "**En semaine 2**, nous vous demanderons de créer un lien de partage et de soumettre celui-ci dans un devoir Moodle. Laissez le Notebook avec les celules de résultats."
      ]
    },
    {
      "cell_type": "markdown",
      "metadata": {
        "id": "-uppRJUdzfbk"
      },
      "source": [
        "##Partie 1: Exercices relatifs aux Vidéos Machine Learnia\n",
        "\n",
        "\n"
      ]
    },
    {
      "cell_type": "markdown",
      "metadata": {
        "id": "mw4o-bumzvPa"
      },
      "source": [
        "### Vidéo (2/30): \n",
        "[PYTHON VARIABLES ET FONCTIONS](https://www.youtube.com/watch?v=doFpNjdmsw8&list=PLO_fdPEVlfKqMDNmCFzQISI2H_nJcEDJq&index=2) (15:02)\n",
        "\n",
        "Modifiez la fonction e_potentielle définie ci-dessous pour retourner une valeur indiquant si l'energie calculée est supérieure ou inférieur a une energie_limite passée en tant que 4eme argument.\n"
      ]
    },
    {
      "cell_type": "code",
      "metadata": {
        "id": "J9qfiubk0sfb",
        "colab": {
          "base_uri": "https://localhost:8080/"
        },
        "outputId": "34608a5b-0d00-4a8f-f115-132301110dee"
      },
      "source": [
        "# Exemple concret : fonction qui calcul l'energie potentielle d'un corps\n",
        "\n",
        "def e_potentielle(masse, hauteur, e_limite, g=9.81):\n",
        "  energie = masse * hauteur * g \n",
        "\n",
        "  return energie > e_limite\n",
        "\n",
        "# ici g a une valeur par défaut donc nous ne sommes pas obligé de lui donner une valeur\n",
        "e_potentielle(masse=10, hauteur=10, e_limite=5000)"
      ],
      "execution_count": null,
      "outputs": [
        {
          "output_type": "execute_result",
          "data": {
            "text/plain": [
              "False"
            ]
          },
          "metadata": {},
          "execution_count": 2
        }
      ]
    },
    {
      "cell_type": "markdown",
      "metadata": {
        "id": "2jyfyqUY14tN"
      },
      "source": [
        "### Vidéo (3/30): \n",
        "[PYTHON IF/ELSE, WHILE, FOR](https://www.youtube.com/watch?v=x_Jeyvw7n9I&list=PLO_fdPEVlfKqMDNmCFzQISI2H_nJcEDJq&index=3) (13:17)\n",
        "\n",
        "Implémentez la suite de Fibonacci [0, 1, 1, 2, 3, 5, 8, 13, 21, ...] qui part de 2 nombres a=0 et b=1, et qui calcule le nombre suivant en additionnant les 2 nombres précédents.\n",
        "\n",
        "Indices :\n",
        "\n",
        "*   Pour cet exercice vous aurez besoin d'une bouce While\n",
        "*   Vous pouvez imprimer cette suite jusqu'a atteindre un nombre n que vous aurez choisit\n",
        "*   Avec, python il est possible de mettre a jour 2 variables simultannément sur la meme lignes : a, b = b, a+b"
      ]
    },
    {
      "cell_type": "code",
      "metadata": {
        "id": "cAnIYojL2slB",
        "colab": {
          "base_uri": "https://localhost:8080/"
        },
        "outputId": "5180f234-eaec-48cc-8b4c-731c5f9caff4"
      },
      "source": [
        "def fibonacci(n):\n",
        "    # retourne une liste contenant la suite de fibonacci jusqu'a n\n",
        "    i = 0\n",
        "    y = 1\n",
        "    \n",
        "    somme = i+y\n",
        "    while i < n:\n",
        "      print(i)\n",
        "      i = y\n",
        "      y = somme\n",
        "      somme = i+y \n",
        "\n",
        "fibonacci(1000)"
      ],
      "execution_count": null,
      "outputs": [
        {
          "output_type": "stream",
          "name": "stdout",
          "text": [
            "0\n",
            "1\n",
            "1\n",
            "2\n",
            "3\n",
            "5\n",
            "8\n",
            "13\n",
            "21\n",
            "34\n",
            "55\n",
            "89\n",
            "144\n",
            "233\n",
            "377\n",
            "610\n",
            "987\n"
          ]
        }
      ]
    },
    {
      "cell_type": "markdown",
      "metadata": {
        "id": "UgMY2Q6C32X7"
      },
      "source": [
        "###Vidéo (4/30):\n",
        "\n",
        "[PYTHON LISTES et TUPLES (18:55)](https://www.youtube.com/watch?v=5UOSiCPu5aM&list=PLO_fdPEVlfKqMDNmCFzQISI2H_nJcEDJq&index=4)\n",
        "\n",
        "Transformer le code précédent qui donne la suite de Fibonacci pour enregistrer les résultats dans une liste et retourner cette liste a la fin de la fonction"
      ]
    },
    {
      "cell_type": "code",
      "metadata": {
        "id": "uWvq5v3_ywHx",
        "colab": {
          "base_uri": "https://localhost:8080/"
        },
        "outputId": "1f2237ee-5752-4a04-c795-0885d742a4d4"
      },
      "source": [
        "def fibonacci2(n):\n",
        "    # retourne une liste contenant la suite de fibonacci jusqu'a n\n",
        "    liste =[]\n",
        "    i = 0\n",
        "    y = 1\n",
        "    \n",
        "    somme = i+y\n",
        "    while i < n:\n",
        "      liste.append(i)\n",
        "      i = y\n",
        "      y = somme\n",
        "      somme = i+y \n",
        "    return liste\n",
        "\n",
        "liste_result = fibonacci2(1000)\n",
        "liste_result"
      ],
      "execution_count": null,
      "outputs": [
        {
          "output_type": "execute_result",
          "data": {
            "text/plain": [
              "[0, 1, 1, 2, 3, 5, 8, 13, 21, 34, 55, 89, 144, 233, 377, 610, 987]"
            ]
          },
          "metadata": {},
          "execution_count": 10
        }
      ]
    },
    {
      "cell_type": "markdown",
      "metadata": {
        "id": "z1UAHDy56fW0"
      },
      "source": [
        "###Vidéo (5/30):\n",
        "\n",
        "[PYTHON DICTIONNAIRES  (12:22)](https://www.youtube.com/watch?v=5UOSiCPu5aM&list=PLO_fdPEVlfKqMDNmCFzQISI2H_nJcEDJq&index=5)\n",
        "\n",
        "Implémentez une fonction trier(classeur, valeur) qui place une valeur dans un dictionnaire en fonction de son signe"
      ]
    },
    {
      "cell_type": "code",
      "metadata": {
        "id": "avhzzvBNTy5f",
        "colab": {
          "base_uri": "https://localhost:8080/"
        },
        "outputId": "0a92d041-5170-4cd0-a7be-a4ab9f63264f"
      },
      "source": [
        "classeur = {'négatifs':[],\n",
        "            'positifs':[]\n",
        "            }\n",
        "\n",
        "def trier(classeur, valeur):\n",
        "  if valeur < 0:\n",
        "    classeur.get('négatifs').append(valeur)\n",
        "    \n",
        "  else:\n",
        "    classeur.get('positifs').append(valeur)\n",
        "\n",
        "trier(classeur, -1)\n",
        "trier(classeur, 1)\n",
        "trier(classeur, 10)\n",
        "trier(classeur, -6)\n",
        "trier(classeur, -3)\n",
        "trier(classeur, 70)\n",
        "\n",
        "for k, v in classeur.items():\n",
        "  print(k, v)\n"
      ],
      "execution_count": null,
      "outputs": [
        {
          "output_type": "stream",
          "name": "stdout",
          "text": [
            "négatifs [-1, -6, -3]\n",
            "positifs [1, 10, 70]\n"
          ]
        }
      ]
    },
    {
      "cell_type": "markdown",
      "metadata": {
        "id": "IU5zbzD57BAP"
      },
      "source": [
        "###Vidéo (6/30):\n",
        "\n",
        "[PYTHON LIST DICT COMPREHENSION (12:05)](https://www.youtube.com/watch?v=5UOSiCPu5aM&list=PLO_fdPEVlfKqMDNmCFzQISI2H_nJcEDJq&index=6)\n",
        "\n",
        "Créer un dictionnaire qui contienne des clefs de 1 a 20, avec comme valeur le carré de chaque clef"
      ]
    },
    {
      "cell_type": "code",
      "metadata": {
        "colab": {
          "base_uri": "https://localhost:8080/"
        },
        "id": "KgGgWfbVURiR",
        "outputId": "aee067ed-e469-4d50-f4da-5afdededd860"
      },
      "source": [
        "dictionnaire = {\n",
        "    str(k) : k**2 for k in range(0,20)\n",
        "}\n",
        "\n",
        "print(dictionnaire)"
      ],
      "execution_count": null,
      "outputs": [
        {
          "output_type": "stream",
          "name": "stdout",
          "text": [
            "{'0': 0, '1': 1, '2': 4, '3': 9, '4': 16, '5': 25, '6': 36, '7': 49, '8': 64, '9': 81, '10': 100, '11': 121, '12': 144, '13': 169, '14': 196, '15': 225, '16': 256, '17': 289, '18': 324, '19': 361}\n"
          ]
        }
      ]
    },
    {
      "cell_type": "markdown",
      "metadata": {
        "id": "HzTj94987UnT"
      },
      "source": [
        "###Vidéo (7/30):\n",
        "\n",
        "[PYTHON BUILT-IN FUNCTIONS (20:40)](https://www.youtube.com/watch?v=5UOSiCPu5aM&list=PLO_fdPEVlfKqMDNmCFzQISI2H_nJcEDJq&index=7)\n",
        "\n",
        "Le code ci-dessous permet de créer un fichier qui contient les nombres carrée de 0 jusqu'a 19. L'exercice est d'implémenter un code qui permet de lire ce fichier et d'écrire chaque ligne dans une liste.\n",
        "\n",
        "\n",
        "*   La fonction read().splitlines() sera tres utile.\n",
        "*   Dans un premier temps, **n'utilisez pas** les listes comprehension.\n",
        "*   Dans un second temps, **utilisez** les listes comprehension. "
      ]
    },
    {
      "cell_type": "code",
      "metadata": {
        "id": "EEIli1aRlF6D",
        "colab": {
          "base_uri": "https://localhost:8080/"
        },
        "outputId": "568cf18c-51d6-4871-e7e7-87b70da247de"
      },
      "source": [
        "with open('fichier.txt', 'w') as f:\n",
        "    for i in range(0, 20):\n",
        "        f.write(f'{i}: {i**2}\\n')\n",
        "    f.close()\n",
        "\n",
        "liste_nocomprehension = []\n",
        "with open('fichier.txt', 'r') as f:\n",
        "  liste_nocomprehension = f.read().splitlines()\n",
        "\n",
        "liste_withcomprehension = [ch for ch in open('fichier.txt', 'r').read().splitlines()]\n",
        "\n",
        "\n",
        "print('no comprehension')\n",
        "print(liste_nocomprehension)\n",
        "print('with comprehension')\n",
        "liste_withcomprehension"
      ],
      "execution_count": null,
      "outputs": [
        {
          "output_type": "stream",
          "name": "stdout",
          "text": [
            "no comprehension\n",
            "['0: 0', '1: 1', '2: 4', '3: 9', '4: 16', '5: 25', '6: 36', '7: 49', '8: 64', '9: 81', '10: 100', '11: 121', '12: 144', '13: 169', '14: 196', '15: 225', '16: 256', '17: 289', '18: 324', '19: 361']\n",
            "with comprehension\n"
          ]
        },
        {
          "output_type": "execute_result",
          "data": {
            "text/plain": [
              "['0: 0',\n",
              " '1: 1',\n",
              " '2: 4',\n",
              " '3: 9',\n",
              " '4: 16',\n",
              " '5: 25',\n",
              " '6: 36',\n",
              " '7: 49',\n",
              " '8: 64',\n",
              " '9: 81',\n",
              " '10: 100',\n",
              " '11: 121',\n",
              " '12: 144',\n",
              " '13: 169',\n",
              " '14: 196',\n",
              " '15: 225',\n",
              " '16: 256',\n",
              " '17: 289',\n",
              " '18: 324',\n",
              " '19: 361']"
            ]
          },
          "metadata": {},
          "execution_count": 4
        }
      ]
    },
    {
      "cell_type": "markdown",
      "metadata": {
        "id": "glcUyilqZ6FU"
      },
      "source": [
        "## Partie 2: Exercice Machine Learning semaine 1"
      ]
    },
    {
      "cell_type": "markdown",
      "metadata": {
        "id": "xBQpEhC0a1eD"
      },
      "source": [
        "*Pour* ces exercices, nous vous demandons de **ne pas utiliser Pandas**!\n",
        "\n"
      ]
    },
    {
      "cell_type": "markdown",
      "metadata": {
        "id": "zvmM8BJaggq3"
      },
      "source": [
        "### Exercice 1: lecture fichier CSV et dictionnaire\n",
        "Ecrivez une fonction ```lireTemperatures(nomDeFichier)``` qui lira le fichier csv dont le nom est donné en paramètre. Celui sera structuré de la façon suivante: \n",
        "\n",
        "Chaque ligne contient le nom d'une ville suivi de 365 nombres flottants représentant la température jour par jour. La première valeur sera la température au 1er janvier, la deuxième au 2 janvier et la 365eme au celle au 31 décembre. On supposera qu'il ne s'agit pas d'une année bisextile. Les valeures sont séparée par des virules (c'est un csv).\n",
        "\n",
        "Vous trouverez sur moodle un fichier appelé ```temperatures.csv``` structurée de cette façon.\n",
        "\n",
        "Enregistrez les données lues dans un dictionnaire dont la clef est le nom de la ville et la valeur est une liste de nombres.\n",
        "\n",
        "\n",
        "\n",
        "\n",
        "\n"
      ]
    },
    {
      "cell_type": "code",
      "metadata": {
        "id": "bjlZJ2xVge7-",
        "colab": {
          "resources": {
            "http://localhost:8080/nbextensions/google.colab/files.js": {
              "data": "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",
              "ok": true,
              "headers": [
                [
                  "content-type",
                  "application/javascript"
                ]
              ],
              "status": 200,
              "status_text": ""
            }
          },
          "base_uri": "https://localhost:8080/",
          "height": 73
        },
        "outputId": "07d51402-69a7-4660-cc4d-84858af5d32d"
      },
      "source": [
        "# votre code et vos exemples ici (faites plusieurs cellules)\n",
        "from google.colab import files\n",
        "uploaded = files.upload()"
      ],
      "execution_count": 1,
      "outputs": [
        {
          "output_type": "display_data",
          "data": {
            "text/html": [
              "\n",
              "     <input type=\"file\" id=\"files-fd8221c6-a0c0-49d8-9171-91853304a19e\" name=\"files[]\" multiple disabled\n",
              "        style=\"border:none\" />\n",
              "     <output id=\"result-fd8221c6-a0c0-49d8-9171-91853304a19e\">\n",
              "      Upload widget is only available when the cell has been executed in the\n",
              "      current browser session. Please rerun this cell to enable.\n",
              "      </output>\n",
              "      <script src=\"/nbextensions/google.colab/files.js\"></script> "
            ],
            "text/plain": [
              "<IPython.core.display.HTML object>"
            ]
          },
          "metadata": {}
        },
        {
          "output_type": "stream",
          "name": "stdout",
          "text": [
            "Saving temperatures.csv to temperatures.csv\n"
          ]
        }
      ]
    },
    {
      "cell_type": "code",
      "metadata": {
        "id": "x62l9P8umrA2"
      },
      "source": [
        "import csv\n",
        "\n",
        "temperatures = {}\n",
        "with open('temperatures.csv', 'r') as f:\n",
        "  liste_contenu = list(csv.reader(f))\n",
        "\n",
        "for ligne in liste_contenu:\n",
        "  ville_temps = ligne[0]\n",
        "  nom_ville, reste = ville_temps.split(';', 1);\n",
        "  temperatures[nom_ville] = reste.split(';');\n",
        "\n"
      ],
      "execution_count": 2,
      "outputs": []
    },
    {
      "cell_type": "code",
      "metadata": {
        "colab": {
          "base_uri": "https://localhost:8080/"
        },
        "id": "wZezEXg6rAya",
        "outputId": "75fa83f8-9fc3-476f-86c7-f8bf552fc189"
      },
      "source": [
        "temperatures['Warmville']"
      ],
      "execution_count": 9,
      "outputs": [
        {
          "output_type": "execute_result",
          "data": {
            "text/plain": [
              "['35.328',\n",
              " '35.136',\n",
              " '35.04',\n",
              " '34.848',\n",
              " '34.752',\n",
              " '34.656',\n",
              " '34.464',\n",
              " '34.368',\n",
              " '34.272',\n",
              " '34.176',\n",
              " '34.176',\n",
              " '34.08',\n",
              " '34.08',\n",
              " '33.984',\n",
              " '33.984',\n",
              " '33.984',\n",
              " '33.984',\n",
              " '33.984',\n",
              " '33.984',\n",
              " '33.984',\n",
              " '33.984',\n",
              " '34.08',\n",
              " '34.08',\n",
              " '34.176',\n",
              " '34.272',\n",
              " '34.368',\n",
              " '34.464',\n",
              " '34.56',\n",
              " '34.656',\n",
              " '34.752',\n",
              " '34.848',\n",
              " '34.944',\n",
              " '35.136',\n",
              " '35.232',\n",
              " '35.328',\n",
              " '35.52',\n",
              " '35.616',\n",
              " '35.808',\n",
              " '36',\n",
              " '36.096',\n",
              " '36.288',\n",
              " '36.48',\n",
              " '36.672',\n",
              " '36.768',\n",
              " '36.96',\n",
              " '37.152',\n",
              " '37.344',\n",
              " '37.536',\n",
              " '37.728',\n",
              " '37.92',\n",
              " '38.112',\n",
              " '38.304',\n",
              " '38.496',\n",
              " '38.688',\n",
              " '38.88',\n",
              " '39.072',\n",
              " '39.264',\n",
              " '39.456',\n",
              " '39.648',\n",
              " '39.84',\n",
              " '40.128',\n",
              " '40.32',\n",
              " '40.512',\n",
              " '40.704',\n",
              " '40.992',\n",
              " '41.184',\n",
              " '41.376',\n",
              " '41.664',\n",
              " '41.856',\n",
              " '42.144',\n",
              " '42.336',\n",
              " '42.624',\n",
              " '42.912',\n",
              " '43.104',\n",
              " '43.392',\n",
              " '43.68',\n",
              " '43.968',\n",
              " '44.256',\n",
              " '44.544',\n",
              " '44.832',\n",
              " '45.12',\n",
              " '45.408',\n",
              " '45.696',\n",
              " '45.984',\n",
              " '46.272',\n",
              " '46.656',\n",
              " '46.944',\n",
              " '47.232',\n",
              " '47.616',\n",
              " '47.904',\n",
              " '48.288',\n",
              " '48.576',\n",
              " '48.96',\n",
              " '49.344',\n",
              " '49.632',\n",
              " '50.016',\n",
              " '50.4',\n",
              " '50.688',\n",
              " '51.072',\n",
              " '51.456',\n",
              " '51.744',\n",
              " '52.128',\n",
              " '52.512',\n",
              " '52.896',\n",
              " '53.184',\n",
              " '53.568',\n",
              " '53.952',\n",
              " '54.336',\n",
              " '54.624',\n",
              " '55.008',\n",
              " '55.392',\n",
              " '55.68',\n",
              " '56.064',\n",
              " '56.352',\n",
              " '56.736',\n",
              " '57.024',\n",
              " '57.408',\n",
              " '57.696',\n",
              " '58.08',\n",
              " '58.368',\n",
              " '58.752',\n",
              " '59.04',\n",
              " '59.328',\n",
              " '59.712',\n",
              " '60',\n",
              " '60.288',\n",
              " '60.576',\n",
              " '60.96',\n",
              " '61.248',\n",
              " '61.536',\n",
              " '61.824',\n",
              " '62.112',\n",
              " '62.4',\n",
              " '62.784',\n",
              " '63.072',\n",
              " '63.36',\n",
              " '63.648',\n",
              " '63.936',\n",
              " '64.224',\n",
              " '64.608',\n",
              " '64.896',\n",
              " '65.184',\n",
              " '65.472',\n",
              " '65.76',\n",
              " '66.144',\n",
              " '66.432',\n",
              " '66.72',\n",
              " '67.104',\n",
              " '67.392',\n",
              " '67.68',\n",
              " '68.064',\n",
              " '68.352',\n",
              " '68.64',\n",
              " '69.024',\n",
              " '69.312',\n",
              " '69.696',\n",
              " '69.984',\n",
              " '70.368',\n",
              " '70.656',\n",
              " '70.944',\n",
              " '71.328',\n",
              " '71.616',\n",
              " '71.904',\n",
              " '72.288',\n",
              " '72.576',\n",
              " '72.864',\n",
              " '73.152',\n",
              " '73.536',\n",
              " '73.824',\n",
              " '74.112',\n",
              " '74.4',\n",
              " '74.592',\n",
              " '74.88',\n",
              " '75.168',\n",
              " '75.456',\n",
              " '75.648',\n",
              " '75.936',\n",
              " '76.128',\n",
              " '76.32',\n",
              " '76.512',\n",
              " '76.704',\n",
              " '76.896',\n",
              " '77.088',\n",
              " '77.28',\n",
              " '77.472',\n",
              " '77.568',\n",
              " '77.664',\n",
              " '77.856',\n",
              " '77.952',\n",
              " '78.048',\n",
              " '78.144',\n",
              " '78.24',\n",
              " '78.336',\n",
              " '78.336',\n",
              " '78.432',\n",
              " '78.432',\n",
              " '78.528',\n",
              " '78.528',\n",
              " '78.528',\n",
              " '78.528',\n",
              " '78.528',\n",
              " '78.528',\n",
              " '78.528',\n",
              " '78.528',\n",
              " '78.432',\n",
              " '78.432',\n",
              " '78.432',\n",
              " '78.336',\n",
              " '78.336',\n",
              " '78.24',\n",
              " '78.24',\n",
              " '78.144',\n",
              " '78.048',\n",
              " '77.952',\n",
              " '77.952',\n",
              " '77.856',\n",
              " '77.76',\n",
              " '77.664',\n",
              " '77.568',\n",
              " '77.472',\n",
              " '77.376',\n",
              " '77.28',\n",
              " '77.184',\n",
              " '77.088',\n",
              " '76.992',\n",
              " '76.896',\n",
              " '76.704',\n",
              " '76.608',\n",
              " '76.512',\n",
              " '76.32',\n",
              " '76.224',\n",
              " '76.032',\n",
              " '75.936',\n",
              " '75.744',\n",
              " '75.552',\n",
              " '75.456',\n",
              " '75.264',\n",
              " '75.072',\n",
              " '74.88',\n",
              " '74.688',\n",
              " '74.496',\n",
              " '74.304',\n",
              " '74.016',\n",
              " '73.824',\n",
              " '73.632',\n",
              " '73.344',\n",
              " '73.056',\n",
              " '72.864',\n",
              " '72.576',\n",
              " '72.288',\n",
              " '72',\n",
              " '71.712',\n",
              " '71.424',\n",
              " '71.136',\n",
              " '70.848',\n",
              " '70.56',\n",
              " '70.176',\n",
              " '69.888',\n",
              " '69.504',\n",
              " '69.216',\n",
              " '68.832',\n",
              " '68.544',\n",
              " '68.16',\n",
              " '67.776',\n",
              " '67.392',\n",
              " '67.104',\n",
              " '66.72',\n",
              " '66.336',\n",
              " '65.952',\n",
              " '65.568',\n",
              " '65.184',\n",
              " '64.896',\n",
              " '64.512',\n",
              " '64.128',\n",
              " '63.744',\n",
              " '63.36',\n",
              " '62.976',\n",
              " '62.688',\n",
              " '62.304',\n",
              " '61.92',\n",
              " '61.536',\n",
              " '61.248',\n",
              " '60.864',\n",
              " '60.48',\n",
              " '60.192',\n",
              " '59.808',\n",
              " '59.52',\n",
              " '59.136',\n",
              " '58.848',\n",
              " '58.464',\n",
              " '58.176',\n",
              " '57.888',\n",
              " '57.504',\n",
              " '57.216',\n",
              " '56.928',\n",
              " '56.544',\n",
              " '56.256',\n",
              " '55.968',\n",
              " '55.68',\n",
              " '55.392',\n",
              " '55.104',\n",
              " '54.816',\n",
              " '54.528',\n",
              " '54.24',\n",
              " '53.856',\n",
              " '53.568',\n",
              " '53.28',\n",
              " '52.992',\n",
              " '52.704',\n",
              " '52.416',\n",
              " '52.128',\n",
              " '51.84',\n",
              " '51.552',\n",
              " '51.264',\n",
              " '50.88',\n",
              " '50.592',\n",
              " '50.304',\n",
              " '50.016',\n",
              " '49.728',\n",
              " '49.344',\n",
              " '49.056',\n",
              " '48.768',\n",
              " '48.384',\n",
              " '48.096',\n",
              " '47.712',\n",
              " '47.424',\n",
              " '47.04',\n",
              " '46.752',\n",
              " '46.368',\n",
              " '46.08',\n",
              " '45.696',\n",
              " '45.408',\n",
              " '45.024',\n",
              " '44.736',\n",
              " '44.352',\n",
              " '43.968',\n",
              " '43.68',\n",
              " '43.296',\n",
              " '43.008',\n",
              " '42.624',\n",
              " '42.24',\n",
              " '41.952',\n",
              " '41.568',\n",
              " '41.28',\n",
              " '40.896',\n",
              " '40.608',\n",
              " '40.32',\n",
              " '39.936',\n",
              " '39.648',\n",
              " '39.36',\n",
              " '39.072',\n",
              " '38.688',\n",
              " '38.4',\n",
              " '38.112',\n",
              " '37.824',\n",
              " '37.632',\n",
              " '37.344',\n",
              " '37.056',\n",
              " '36.864',\n",
              " '36.576',\n",
              " '36.384',\n",
              " '36.096',\n",
              " '35.904',\n",
              " '35.712',\n",
              " '35.52']"
            ]
          },
          "metadata": {},
          "execution_count": 9
        }
      ]
    },
    {
      "cell_type": "markdown",
      "metadata": {
        "id": "Rw_2NiryggCv"
      },
      "source": [
        "### Exercice 2: Manipulation de listes\n",
        "Ecrivez une fonction ```calendrier_temperature(temperatures, ville)``` où ```temperatures``` est un dictionnaire tel que celui créé à la question précédente et ```ville``` est le nom d'une ville.\n",
        "Cette fonction renvoie un nouveau dictionnaire où la clef est le nom d'un mois et la valeur correspondante est la liste des températures de ce mois dans l'ordre chronologique.\n",
        "\n",
        "Utilisez les capacités de découpage de liste de Python pour obtenir un code compact et lisible.\n"
      ]
    },
    {
      "cell_type": "code",
      "metadata": {
        "id": "NXbTxAPtmxgg"
      },
      "source": [
        "from collections import OrderedDict\n",
        "\n",
        "def calendrier_temperature(temperatures, ville):\n",
        "  calendrier = OrderedDict()\n",
        "  mois = {'janvier': 31, 'février': 28, 'mars': 31, 'avril': 30, 'mai': 31, 'juin': 30, 'juillet': 31, 'août': 31, 'septembre': 30, 'octobre': 31, 'novembre': 30, 'décembre': 31}\n",
        "  premier_jour = 0\n",
        "  for le_mois in mois:\n",
        "    dernier_jour = mois[le_mois]+premier_jour\n",
        "    calendrier[le_mois] = temperatures[ville][premier_jour:dernier_jour]\n",
        "    premier_jour = dernier_jour\n",
        "  return calendrier\n",
        "     \n"
      ],
      "execution_count": 23,
      "outputs": []
    },
    {
      "cell_type": "code",
      "metadata": {
        "colab": {
          "base_uri": "https://localhost:8080/"
        },
        "id": "t3yUIOEXrVaP",
        "outputId": "e1cffcf4-2966-4e35-f9dc-d2bb5a88d7c9"
      },
      "source": [
        "calendrier_temperature(temperatures, 'Warmville')"
      ],
      "execution_count": 24,
      "outputs": [
        {
          "output_type": "execute_result",
          "data": {
            "text/plain": [
              "OrderedDict([('janvier',\n",
              "              ['35.328',\n",
              "               '35.136',\n",
              "               '35.04',\n",
              "               '34.848',\n",
              "               '34.752',\n",
              "               '34.656',\n",
              "               '34.464',\n",
              "               '34.368',\n",
              "               '34.272',\n",
              "               '34.176',\n",
              "               '34.176',\n",
              "               '34.08',\n",
              "               '34.08',\n",
              "               '33.984',\n",
              "               '33.984',\n",
              "               '33.984',\n",
              "               '33.984',\n",
              "               '33.984',\n",
              "               '33.984',\n",
              "               '33.984',\n",
              "               '33.984',\n",
              "               '34.08',\n",
              "               '34.08',\n",
              "               '34.176',\n",
              "               '34.272',\n",
              "               '34.368',\n",
              "               '34.464',\n",
              "               '34.56',\n",
              "               '34.656',\n",
              "               '34.752',\n",
              "               '34.848']),\n",
              "             ('février',\n",
              "              ['34.944',\n",
              "               '35.136',\n",
              "               '35.232',\n",
              "               '35.328',\n",
              "               '35.52',\n",
              "               '35.616',\n",
              "               '35.808',\n",
              "               '36',\n",
              "               '36.096',\n",
              "               '36.288',\n",
              "               '36.48',\n",
              "               '36.672',\n",
              "               '36.768',\n",
              "               '36.96',\n",
              "               '37.152',\n",
              "               '37.344',\n",
              "               '37.536',\n",
              "               '37.728',\n",
              "               '37.92',\n",
              "               '38.112',\n",
              "               '38.304',\n",
              "               '38.496',\n",
              "               '38.688',\n",
              "               '38.88',\n",
              "               '39.072',\n",
              "               '39.264',\n",
              "               '39.456',\n",
              "               '39.648']),\n",
              "             ('mars',\n",
              "              ['39.84',\n",
              "               '40.128',\n",
              "               '40.32',\n",
              "               '40.512',\n",
              "               '40.704',\n",
              "               '40.992',\n",
              "               '41.184',\n",
              "               '41.376',\n",
              "               '41.664',\n",
              "               '41.856',\n",
              "               '42.144',\n",
              "               '42.336',\n",
              "               '42.624',\n",
              "               '42.912',\n",
              "               '43.104',\n",
              "               '43.392',\n",
              "               '43.68',\n",
              "               '43.968',\n",
              "               '44.256',\n",
              "               '44.544',\n",
              "               '44.832',\n",
              "               '45.12',\n",
              "               '45.408',\n",
              "               '45.696',\n",
              "               '45.984',\n",
              "               '46.272',\n",
              "               '46.656',\n",
              "               '46.944',\n",
              "               '47.232',\n",
              "               '47.616',\n",
              "               '47.904']),\n",
              "             ('avril',\n",
              "              ['48.288',\n",
              "               '48.576',\n",
              "               '48.96',\n",
              "               '49.344',\n",
              "               '49.632',\n",
              "               '50.016',\n",
              "               '50.4',\n",
              "               '50.688',\n",
              "               '51.072',\n",
              "               '51.456',\n",
              "               '51.744',\n",
              "               '52.128',\n",
              "               '52.512',\n",
              "               '52.896',\n",
              "               '53.184',\n",
              "               '53.568',\n",
              "               '53.952',\n",
              "               '54.336',\n",
              "               '54.624',\n",
              "               '55.008',\n",
              "               '55.392',\n",
              "               '55.68',\n",
              "               '56.064',\n",
              "               '56.352',\n",
              "               '56.736',\n",
              "               '57.024',\n",
              "               '57.408',\n",
              "               '57.696',\n",
              "               '58.08',\n",
              "               '58.368']),\n",
              "             ('mai',\n",
              "              ['58.752',\n",
              "               '59.04',\n",
              "               '59.328',\n",
              "               '59.712',\n",
              "               '60',\n",
              "               '60.288',\n",
              "               '60.576',\n",
              "               '60.96',\n",
              "               '61.248',\n",
              "               '61.536',\n",
              "               '61.824',\n",
              "               '62.112',\n",
              "               '62.4',\n",
              "               '62.784',\n",
              "               '63.072',\n",
              "               '63.36',\n",
              "               '63.648',\n",
              "               '63.936',\n",
              "               '64.224',\n",
              "               '64.608',\n",
              "               '64.896',\n",
              "               '65.184',\n",
              "               '65.472',\n",
              "               '65.76',\n",
              "               '66.144',\n",
              "               '66.432',\n",
              "               '66.72',\n",
              "               '67.104',\n",
              "               '67.392',\n",
              "               '67.68',\n",
              "               '68.064']),\n",
              "             ('juin',\n",
              "              ['68.352',\n",
              "               '68.64',\n",
              "               '69.024',\n",
              "               '69.312',\n",
              "               '69.696',\n",
              "               '69.984',\n",
              "               '70.368',\n",
              "               '70.656',\n",
              "               '70.944',\n",
              "               '71.328',\n",
              "               '71.616',\n",
              "               '71.904',\n",
              "               '72.288',\n",
              "               '72.576',\n",
              "               '72.864',\n",
              "               '73.152',\n",
              "               '73.536',\n",
              "               '73.824',\n",
              "               '74.112',\n",
              "               '74.4',\n",
              "               '74.592',\n",
              "               '74.88',\n",
              "               '75.168',\n",
              "               '75.456',\n",
              "               '75.648',\n",
              "               '75.936',\n",
              "               '76.128',\n",
              "               '76.32',\n",
              "               '76.512',\n",
              "               '76.704']),\n",
              "             ('juillet',\n",
              "              ['76.896',\n",
              "               '77.088',\n",
              "               '77.28',\n",
              "               '77.472',\n",
              "               '77.568',\n",
              "               '77.664',\n",
              "               '77.856',\n",
              "               '77.952',\n",
              "               '78.048',\n",
              "               '78.144',\n",
              "               '78.24',\n",
              "               '78.336',\n",
              "               '78.336',\n",
              "               '78.432',\n",
              "               '78.432',\n",
              "               '78.528',\n",
              "               '78.528',\n",
              "               '78.528',\n",
              "               '78.528',\n",
              "               '78.528',\n",
              "               '78.528',\n",
              "               '78.528',\n",
              "               '78.528',\n",
              "               '78.432',\n",
              "               '78.432',\n",
              "               '78.432',\n",
              "               '78.336',\n",
              "               '78.336',\n",
              "               '78.24',\n",
              "               '78.24',\n",
              "               '78.144']),\n",
              "             ('août',\n",
              "              ['78.048',\n",
              "               '77.952',\n",
              "               '77.952',\n",
              "               '77.856',\n",
              "               '77.76',\n",
              "               '77.664',\n",
              "               '77.568',\n",
              "               '77.472',\n",
              "               '77.376',\n",
              "               '77.28',\n",
              "               '77.184',\n",
              "               '77.088',\n",
              "               '76.992',\n",
              "               '76.896',\n",
              "               '76.704',\n",
              "               '76.608',\n",
              "               '76.512',\n",
              "               '76.32',\n",
              "               '76.224',\n",
              "               '76.032',\n",
              "               '75.936',\n",
              "               '75.744',\n",
              "               '75.552',\n",
              "               '75.456',\n",
              "               '75.264',\n",
              "               '75.072',\n",
              "               '74.88',\n",
              "               '74.688',\n",
              "               '74.496',\n",
              "               '74.304',\n",
              "               '74.016']),\n",
              "             ('septembre',\n",
              "              ['73.824',\n",
              "               '73.632',\n",
              "               '73.344',\n",
              "               '73.056',\n",
              "               '72.864',\n",
              "               '72.576',\n",
              "               '72.288',\n",
              "               '72',\n",
              "               '71.712',\n",
              "               '71.424',\n",
              "               '71.136',\n",
              "               '70.848',\n",
              "               '70.56',\n",
              "               '70.176',\n",
              "               '69.888',\n",
              "               '69.504',\n",
              "               '69.216',\n",
              "               '68.832',\n",
              "               '68.544',\n",
              "               '68.16',\n",
              "               '67.776',\n",
              "               '67.392',\n",
              "               '67.104',\n",
              "               '66.72',\n",
              "               '66.336',\n",
              "               '65.952',\n",
              "               '65.568',\n",
              "               '65.184',\n",
              "               '64.896',\n",
              "               '64.512']),\n",
              "             ('octobre',\n",
              "              ['64.128',\n",
              "               '63.744',\n",
              "               '63.36',\n",
              "               '62.976',\n",
              "               '62.688',\n",
              "               '62.304',\n",
              "               '61.92',\n",
              "               '61.536',\n",
              "               '61.248',\n",
              "               '60.864',\n",
              "               '60.48',\n",
              "               '60.192',\n",
              "               '59.808',\n",
              "               '59.52',\n",
              "               '59.136',\n",
              "               '58.848',\n",
              "               '58.464',\n",
              "               '58.176',\n",
              "               '57.888',\n",
              "               '57.504',\n",
              "               '57.216',\n",
              "               '56.928',\n",
              "               '56.544',\n",
              "               '56.256',\n",
              "               '55.968',\n",
              "               '55.68',\n",
              "               '55.392',\n",
              "               '55.104',\n",
              "               '54.816',\n",
              "               '54.528',\n",
              "               '54.24']),\n",
              "             ('novembre',\n",
              "              ['53.856',\n",
              "               '53.568',\n",
              "               '53.28',\n",
              "               '52.992',\n",
              "               '52.704',\n",
              "               '52.416',\n",
              "               '52.128',\n",
              "               '51.84',\n",
              "               '51.552',\n",
              "               '51.264',\n",
              "               '50.88',\n",
              "               '50.592',\n",
              "               '50.304',\n",
              "               '50.016',\n",
              "               '49.728',\n",
              "               '49.344',\n",
              "               '49.056',\n",
              "               '48.768',\n",
              "               '48.384',\n",
              "               '48.096',\n",
              "               '47.712',\n",
              "               '47.424',\n",
              "               '47.04',\n",
              "               '46.752',\n",
              "               '46.368',\n",
              "               '46.08',\n",
              "               '45.696',\n",
              "               '45.408',\n",
              "               '45.024',\n",
              "               '44.736']),\n",
              "             ('décembre',\n",
              "              ['44.352',\n",
              "               '43.968',\n",
              "               '43.68',\n",
              "               '43.296',\n",
              "               '43.008',\n",
              "               '42.624',\n",
              "               '42.24',\n",
              "               '41.952',\n",
              "               '41.568',\n",
              "               '41.28',\n",
              "               '40.896',\n",
              "               '40.608',\n",
              "               '40.32',\n",
              "               '39.936',\n",
              "               '39.648',\n",
              "               '39.36',\n",
              "               '39.072',\n",
              "               '38.688',\n",
              "               '38.4',\n",
              "               '38.112',\n",
              "               '37.824',\n",
              "               '37.632',\n",
              "               '37.344',\n",
              "               '37.056',\n",
              "               '36.864',\n",
              "               '36.576',\n",
              "               '36.384',\n",
              "               '36.096',\n",
              "               '35.904',\n",
              "               '35.712',\n",
              "               '35.52'])])"
            ]
          },
          "metadata": {},
          "execution_count": 24
        }
      ]
    },
    {
      "cell_type": "markdown",
      "metadata": {
        "id": "qav99w8umzbQ"
      },
      "source": [
        "### Exercice 3: List Comprehension\n",
        "Ecrivez une fonction ```jours_de_gel(cal_temp, mois)``` où ```cal_temp``` est un dictionnaire tel que celui créé à l'exercice 2 et ```mois``` est le nom d'un mois.\n",
        "\n",
        "Cette fonction renverra la liste des des températures en dessous du point de congélation. Comme les températures sont en Farenheit, ce sont celles strictement en dessous de 32 degrés.\n",
        "Ex: Si pour un moi on a la liste suivante: [45, 43, 34, 30, 42, 33, 38] on renverra [34, 30, 33].\n",
        "\n",
        "Utilisez les list comprehensions pour extraire cette information."
      ]
    },
    {
      "cell_type": "code",
      "metadata": {
        "id": "L6PazlkSR-bI",
        "outputId": "7f1cb8ab-4bca-4dbd-e469-44fd8cda5dbe",
        "colab": {
          "base_uri": "https://localhost:8080/"
        }
      },
      "source": [
        "cal_temp = calendrier_temperature(temperatures, 'Warmville')\n",
        "print(cal_temp)"
      ],
      "execution_count": 25,
      "outputs": [
        {
          "output_type": "stream",
          "name": "stdout",
          "text": [
            "OrderedDict([('janvier', ['35.328', '35.136', '35.04', '34.848', '34.752', '34.656', '34.464', '34.368', '34.272', '34.176', '34.176', '34.08', '34.08', '33.984', '33.984', '33.984', '33.984', '33.984', '33.984', '33.984', '33.984', '34.08', '34.08', '34.176', '34.272', '34.368', '34.464', '34.56', '34.656', '34.752', '34.848']), ('février', ['34.944', '35.136', '35.232', '35.328', '35.52', '35.616', '35.808', '36', '36.096', '36.288', '36.48', '36.672', '36.768', '36.96', '37.152', '37.344', '37.536', '37.728', '37.92', '38.112', '38.304', '38.496', '38.688', '38.88', '39.072', '39.264', '39.456', '39.648']), ('mars', ['39.84', '40.128', '40.32', '40.512', '40.704', '40.992', '41.184', '41.376', '41.664', '41.856', '42.144', '42.336', '42.624', '42.912', '43.104', '43.392', '43.68', '43.968', '44.256', '44.544', '44.832', '45.12', '45.408', '45.696', '45.984', '46.272', '46.656', '46.944', '47.232', '47.616', '47.904']), ('avril', ['48.288', '48.576', '48.96', '49.344', '49.632', '50.016', '50.4', '50.688', '51.072', '51.456', '51.744', '52.128', '52.512', '52.896', '53.184', '53.568', '53.952', '54.336', '54.624', '55.008', '55.392', '55.68', '56.064', '56.352', '56.736', '57.024', '57.408', '57.696', '58.08', '58.368']), ('mai', ['58.752', '59.04', '59.328', '59.712', '60', '60.288', '60.576', '60.96', '61.248', '61.536', '61.824', '62.112', '62.4', '62.784', '63.072', '63.36', '63.648', '63.936', '64.224', '64.608', '64.896', '65.184', '65.472', '65.76', '66.144', '66.432', '66.72', '67.104', '67.392', '67.68', '68.064']), ('juin', ['68.352', '68.64', '69.024', '69.312', '69.696', '69.984', '70.368', '70.656', '70.944', '71.328', '71.616', '71.904', '72.288', '72.576', '72.864', '73.152', '73.536', '73.824', '74.112', '74.4', '74.592', '74.88', '75.168', '75.456', '75.648', '75.936', '76.128', '76.32', '76.512', '76.704']), ('juillet', ['76.896', '77.088', '77.28', '77.472', '77.568', '77.664', '77.856', '77.952', '78.048', '78.144', '78.24', '78.336', '78.336', '78.432', '78.432', '78.528', '78.528', '78.528', '78.528', '78.528', '78.528', '78.528', '78.528', '78.432', '78.432', '78.432', '78.336', '78.336', '78.24', '78.24', '78.144']), ('août', ['78.048', '77.952', '77.952', '77.856', '77.76', '77.664', '77.568', '77.472', '77.376', '77.28', '77.184', '77.088', '76.992', '76.896', '76.704', '76.608', '76.512', '76.32', '76.224', '76.032', '75.936', '75.744', '75.552', '75.456', '75.264', '75.072', '74.88', '74.688', '74.496', '74.304', '74.016']), ('septembre', ['73.824', '73.632', '73.344', '73.056', '72.864', '72.576', '72.288', '72', '71.712', '71.424', '71.136', '70.848', '70.56', '70.176', '69.888', '69.504', '69.216', '68.832', '68.544', '68.16', '67.776', '67.392', '67.104', '66.72', '66.336', '65.952', '65.568', '65.184', '64.896', '64.512']), ('octobre', ['64.128', '63.744', '63.36', '62.976', '62.688', '62.304', '61.92', '61.536', '61.248', '60.864', '60.48', '60.192', '59.808', '59.52', '59.136', '58.848', '58.464', '58.176', '57.888', '57.504', '57.216', '56.928', '56.544', '56.256', '55.968', '55.68', '55.392', '55.104', '54.816', '54.528', '54.24']), ('novembre', ['53.856', '53.568', '53.28', '52.992', '52.704', '52.416', '52.128', '51.84', '51.552', '51.264', '50.88', '50.592', '50.304', '50.016', '49.728', '49.344', '49.056', '48.768', '48.384', '48.096', '47.712', '47.424', '47.04', '46.752', '46.368', '46.08', '45.696', '45.408', '45.024', '44.736']), ('décembre', ['44.352', '43.968', '43.68', '43.296', '43.008', '42.624', '42.24', '41.952', '41.568', '41.28', '40.896', '40.608', '40.32', '39.936', '39.648', '39.36', '39.072', '38.688', '38.4', '38.112', '37.824', '37.632', '37.344', '37.056', '36.864', '36.576', '36.384', '36.096', '35.904', '35.712', '35.52'])])\n"
          ]
        }
      ]
    },
    {
      "cell_type": "code",
      "metadata": {
        "id": "qiptsA6lpwZS"
      },
      "source": [
        "def jours_de_gel(cal_temp, mois):\n",
        "  liste = [j for j in cal_temp[mois] if float(j) < 32]\n",
        "  return liste"
      ],
      "execution_count": 26,
      "outputs": []
    },
    {
      "cell_type": "code",
      "metadata": {
        "id": "3XEey8RRR0ZC",
        "outputId": "4ee0776f-64cb-4cd7-f154-01644e695ecf",
        "colab": {
          "base_uri": "https://localhost:8080/"
        }
      },
      "source": [
        "jours_de_gel(cal_temp, 'janvier')"
      ],
      "execution_count": 29,
      "outputs": [
        {
          "output_type": "execute_result",
          "data": {
            "text/plain": [
              "[]"
            ]
          },
          "metadata": {},
          "execution_count": 29
        }
      ]
    }
  ]
}