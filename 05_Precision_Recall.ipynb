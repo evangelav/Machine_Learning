{
  "nbformat": 4,
  "nbformat_minor": 0,
  "metadata": {
    "colab": {
      "name": "05_Precision_Recall.ipynb",
      "provenance": [],
      "collapsed_sections": [],
      "include_colab_link": true
    },
    "kernelspec": {
      "name": "python3",
      "display_name": "Python 3"
    }
  },
  "cells": [
    {
      "cell_type": "markdown",
      "metadata": {
        "id": "view-in-github",
        "colab_type": "text"
      },
      "source": [
        "<a href=\"https://colab.research.google.com/github/evangelav/Machine_Learning/blob/main/05_Precision_Recall.ipynb\" target=\"_parent\"><img src=\"https://colab.research.google.com/assets/colab-badge.svg\" alt=\"Open In Colab\"/></a>"
      ]
    },
    {
      "cell_type": "markdown",
      "metadata": {
        "id": "uxJrztr-d2rm"
      },
      "source": [
        "#BIN3100 ML S5 \n",
        "\n",
        "## Lecture obligatoire\n",
        "\n",
        "[Lire le chapitre 3 \"Classification\" du livre Hands-On Machine Learning with Scikit-Learn & TensorFlow (pages 13 à 37 du pdf) (pages 87 à 111 du livre)](https://hevinci.sharepoint.com/:f:/s/GroupeBINV3100_IA_2021-2022/EhcrW8FqTelHtM0dWoRWVCcBcfZYqs3C7fM-oAi7cTkm3g?e=E73dHy)\n",
        "\n",
        "## Exercice sur papier\n",
        "\n",
        "Sur mooVin, faire la leçon: Exercices sur \"papier\"\n",
        "\n",
        "## Exercice Precision/Recall\n",
        "\n",
        "Scikit learn possède des jeux de données \"toy\" déjà embarqués dans la librairie et donc facilement chargeables. Nous allons utiliser le dataset \"breast_cancer\". Il s'agit à partir d'une série de paramètres mesurant une tumeur de prédire si elle est maligne ou bégnine. On parlera de cas positif si la tumeur est maligne.\n",
        "\n",
        "Attention une tumeur maligne est associé à une valeur de 0 et une tumeur bégnine est associé à une valeur 1.\n",
        "\n",
        "Nous vous guidons étape par étape dans la construction d'un classificateur classant de façon pertiente les tumeurs.\n",
        "\n",
        "La documentation sur le jeu de test se trouve en suivant le lien:\n",
        "\n",
        "https://scikit-learn.org/stable/modules/generated/sklearn.datasets.load_breast_cancer.html?highlight=breast%20cancer#sklearn.datasets.load_breast_cancer\n"
      ]
    },
    {
      "cell_type": "code",
      "metadata": {
        "id": "scKHPVTad1fA"
      },
      "source": [
        "# placez ici vos imports\n",
        "from sklearn.datasets import load_breast_cancer\n"
      ],
      "execution_count": null,
      "outputs": []
    },
    {
      "cell_type": "markdown",
      "metadata": {
        "id": "D5PFtG4mmwV2"
      },
      "source": [
        "## Etape 1: chargez les données et observez les\n",
        "- Quels sont les labels à prédire? \n",
        "- [ Votre réponse ici ]\n",
        "- Combien de tumeurs possède le jeu de données\n",
        "- [ Votre réponse ici ]\n",
        "- Combien de cas négatifs/positifs dans le jeu de données\n",
        "- [ Votre réponse ici ]\n",
        "\n",
        "\n"
      ]
    },
    {
      "cell_type": "code",
      "metadata": {
        "id": "vF6Rn7BieFrr"
      },
      "source": [
        "# Votre code permettant de répondre aux questions de la cellule précédante"
      ],
      "execution_count": null,
      "outputs": []
    },
    {
      "cell_type": "markdown",
      "metadata": {
        "id": "gOoEQ3fknf4S"
      },
      "source": [
        "## Etape 2: Préparation des données\n",
        "- Faut-il nettoyer les données?\n",
        "- Faites un split de test et de training\n"
      ]
    },
    {
      "cell_type": "code",
      "metadata": {
        "id": "HqETAU7gnsK_"
      },
      "source": [
        "# Votre code de préparation des données"
      ],
      "execution_count": null,
      "outputs": []
    },
    {
      "cell_type": "markdown",
      "metadata": {
        "id": "ho7iZw3Gnwp6"
      },
      "source": [
        "##Etape 3: Sélection des métriques pertinentes\n",
        "\n",
        "Etant donné le problème quelle mesure sera la plus appropriée et pourquoi?\n",
        "- [ Votre réponse ici ]\n",
        "\n",
        "Scikit learn implémente déjà toutes les métriques classiques. La documentation de celles-ci peut se trouver en suivant ce lien:\n",
        "\n",
        "https://scikit-learn.org/stable/modules/classes.html#module-sklearn.metrics\n"
      ]
    },
    {
      "cell_type": "markdown",
      "metadata": {
        "id": "CG36EJFjoQ2C"
      },
      "source": [
        "## Etape 4: Sélection des méta-paramètres\n",
        "Nous allons utilisez un classificateur K Nearest Neighbors. Faites varier le paramètre k (nombre de voisins) afin de sélectionner la valeur de k la plus appropriée pour notre problème."
      ]
    },
    {
      "cell_type": "code",
      "metadata": {
        "id": "-JPCDvFHo-8F"
      },
      "source": [
        "# Code permettant de sélectionner le k le plus approprié"
      ],
      "execution_count": null,
      "outputs": []
    },
    {
      "cell_type": "markdown",
      "metadata": {
        "id": "1_4olugNpvrI"
      },
      "source": [
        "## Overfitting dans le knn\n",
        "Pour notre problème certaines valeurs de k provoqueront de l'over-fitting . Comment trouver ces valeurs? Ecrivez un petit code qui les montre.\n",
        "\n",
        "S'agit-il de k plutôt petits ou plutôt grands?\n",
        "\n",
        "[ Votre réponse ]\n",
        "\n",
        "Essayer d'expliquez ce phénomène\n",
        "\n",
        "[ Votre réponse ]"
      ]
    },
    {
      "cell_type": "code",
      "metadata": {
        "id": "v1LK1mRlpiB4"
      },
      "source": [
        "# Code pour montrer l'over-fitting"
      ],
      "execution_count": null,
      "outputs": []
    },
    {
      "cell_type": "markdown",
      "metadata": {
        "id": "SF8EiPSSnfc3"
      },
      "source": [
        "## Question Bonus\n",
        "Au point 4 vous avez observé l'évolution de la mesure choisie (precision ou recall) en fonction du paramètre k. Je vous demande ici de faire le même exercice mais avec la mesure que vous n'avez pas choisie (precision si vous avez choisi le recall; recall si vous avez choisi la precision).\n",
        "\n",
        "Commentez ce que vous observez"
      ]
    }
  ]
}