{
  "nbformat": 4,
  "nbformat_minor": 0,
  "metadata": {
    "colab": {
      "name": "BIN3100 ML S6 Projet Récapitulatif.ipynb",
      "provenance": [],
      "collapsed_sections": [],
      "include_colab_link": true
    },
    "kernelspec": {
      "name": "python3",
      "display_name": "Python 3"
    },
    "language_info": {
      "name": "python"
    }
  },
  "cells": [
    {
      "cell_type": "markdown",
      "metadata": {
        "id": "view-in-github",
        "colab_type": "text"
      },
      "source": [
        "<a href=\"https://colab.research.google.com/github/evangelav/Machine_Learning/blob/main/BIN3100_ML_S6_Projet_R%C3%A9capitulatif.ipynb\" target=\"_parent\"><img src=\"https://colab.research.google.com/assets/colab-badge.svg\" alt=\"Open In Colab\"/></a>"
      ]
    },
    {
      "cell_type": "markdown",
      "metadata": {
        "id": "BsqBC76R6MbT"
      },
      "source": [
        "#BIN3100 ML S6 : Théorie\n",
        "\n",
        "##Vidéos obligatoires\n",
        "Nous vous demandons de regarder et de comprendre les vidéos suivante:\n",
        "\n",
        "1.   [Projet COVID-19 : EXPLORATION DES DONNÉES](https://www.youtube.com/watch?v=u64sWJEP4S0&list=PLO_fdPEVlfKqMDNmCFzQISI2H_nJcEDJq&index=31)\n",
        "2.   [Projet COVID-19 : PRE-PROCESSING](https://www.youtube.com/watch?v=x8yu8sq8mdw&list=PLO_fdPEVlfKqMDNmCFzQISI2H_nJcEDJq&index=32)\n",
        "3.   [Projet COVID-19 : MODÉLISATION ](https://www.youtube.com/watch?v=r58meM7ieaQ&list=PLO_fdPEVlfKqMDNmCFzQISI2H_nJcEDJq&index=33)\n",
        "\n",
        "## Les vidéos suivantes sont en bonus:\n",
        "\n",
        "4.  [PROJET COVID-19 : MÉTHODOLOGIE DE TRAVAIL ](https://www.youtube.com/watch?v=1bJYEE9qgS4&list=PLO_fdPEVlfKqMDNmCFzQISI2H_nJcEDJq&index=30)\n",
        "5.  [SK-LEARN : ENSEMBLE LEARNING ](https://www.youtube.com/watch?v=7C_YpudYtw8&list=PLO_fdPEVlfKqMDNmCFzQISI2H_nJcEDJq&index=29)\n"
      ]
    },
    {
      "cell_type": "markdown",
      "metadata": {
        "id": "tKSyXx3M6Mw0"
      },
      "source": [
        "# Partie 1: Vidéos Machine Learnia\n",
        "\n",
        "https://www.youtube.com/playlist?list=PLO_fdPEVlfKqMDNmCFzQISI2H_nJcEDJq"
      ]
    },
    {
      "cell_type": "markdown",
      "metadata": {
        "id": "e11XhQyN8lLb"
      },
      "source": [
        "## Vidéos (27 à 29 /30) : \n",
        "[Projet COVID-19 : EXPLORATION DES DONNÉES](https://www.youtube.com/watch?v=u64sWJEP4S0&list=PLO_fdPEVlfKqMDNmCFzQISI2H_nJcEDJq&index=31)\n",
        "\n",
        "[Projet COVID-19 : PRE-PROCESSING](https://www.youtube.com/watch?v=x8yu8sq8mdw&list=PLO_fdPEVlfKqMDNmCFzQISI2H_nJcEDJq&index=32)\n",
        "\n",
        "[Projet COVID-19 : MODÉLISATION ](https://www.youtube.com/watch?v=r58meM7ieaQ&list=PLO_fdPEVlfKqMDNmCFzQISI2H_nJcEDJq&index=33)\n",
        "\n",
        "\n",
        "Dans ces trois vidéos, vous allez suivre le développement complet d'un projet depuis l'analyse des données jusqu'à la création du modèle ainsi que son entrainement et son évaluation.\n",
        "\n",
        "Ce projet est celui de la détection des patients ayant le COVID-19.\n",
        "\n",
        "**Remarques :**\n",
        "\n",
        "1. Les vidéos sont assez longues (60, 45 et 37 minutes respectivement).  On ne vous demande pas de reproduire ce projet. Celui-ci est là pour vous donner un exemple des différentes étapes d'un projet et vous aider dans le projet que vous allez faire cette semaine. Les deux heures du lundi seront consacré à ce nouveau projet.\n",
        "2. La méthodologie utilisée pour la résolution de ce projet est expliquée plus en détails dans la première vidéo bonus : [PROJET COVID-19 : MÉTHODOLOGIE DE TRAVAIL ](https://www.youtube.com/watch?v=1bJYEE9qgS4&list=PLO_fdPEVlfKqMDNmCFzQISI2H_nJcEDJq&index=30)\n",
        "3. Pour la partie modélisation, des techniques dites d'Ensemble Learning sont utilisées. Si vous voulez en savoir plus sur ces techniques, vous pouvez regarder la seconde vidéo bonus : [SK-LEARN : ENSEMBLE LEARNING ](https://www.youtube.com/watch?v=7C_YpudYtw8&list=PLO_fdPEVlfKqMDNmCFzQISI2H_nJcEDJq&index=29)\n",
        "4. Si cela vous intéresse, le fichier de données pour ce projet se trouve sur moodle et s'apppelle [COVID-19.xlsx](https://moodle.vinci.be/mod/resource/view.php?id=131364) "
      ]
    },
    {
      "cell_type": "markdown",
      "metadata": {
        "id": "j_KIPXjI8lc8"
      },
      "source": [
        "# Partie 2 : Projet \"Loan Prediction\"\n",
        "\n",
        "La société *Dream Housing Finance* s'occupe de tous les types de prêts immobiliers. Elle est présente dans toutes les zones urbaines, semi-urbaines et rurales. Le client fait d'abord une demande de prêt immobilier, puis la société valide l'éligibilité du client au prêt.\n",
        "\n",
        "La société souhaite automatiser le processus d'éligibilité au prêt (en temps réel) sur la base des informations fournies par le client lorsqu'il remplit le formulaire de demande en ligne. Ces détails sont le sexe, l'état civil, l'éducation, le nombre de personnes à charge, le revenu, le montant du prêt, l'historique de crédit et autres. Pour automatiser ce processus, ils ont fourni un ensemble de données pour identifier les types de clients qui sont éligibles pour le montant du prêt afin qu'ils puissent cibler spécifiquement ces clients.\n",
        "\n",
        "Ces données se trouve dans le fichier [loan_train.csv](https://moodle.vinci.be/mod/resource/view.php?id=131365) se trouvant sur moodle\n",
        "\n",
        "Nous vous demandons de fournir un modèle permettant de faire des prédictions sur l'éligibilité de client pour un prêt.\n",
        "\n",
        "Pour faire, vous allez suivre la méthodologie présentée dans les vidéos :\n",
        "\n",
        "\n",
        "\n",
        "<ol type=\"I\">\n",
        "<li> <h2><b>Exploratory Data Analysis</b> </h2> \n",
        "<b>Objectif :</b> comprendre au maximum les données dont on dispose pour définir une stratégie de modélisation.: </li>\n",
        "<ol>\n",
        "<li>  Analyse de la forme :</li>\n",
        "<ol type=\"a\">\n",
        "<li> Identification de la target </li>\n",
        "<li>Nombre des lignes et de colonnes </li>\n",
        "<li>Identification des valeurs manquantes </li>\n",
        "<li>Types de variables</li>\n",
        "</ol>\n",
        "<li>Analyse du fond :</li>\n",
        "<ol type=\"a\">\n",
        "<li>Visualisation de la target (histogramme/boxplot) </li>\n",
        "<li>Compréhension des différentes variables (recherche)</li>\n",
        "<li>Visualisation des relations : features/target</li>\n",
        "<li>Identification des outliers</li>\n",
        "</ol>\n",
        "</ol>\n",
        "\n",
        "<li><h2><b>Pre-processing</b></h2>\n",
        "\n",
        "<b> Objectif :</b> transformer le data pour le mettre dans un format propice au machine learning </li>\n",
        "<ol>\n",
        "<li>Création du Train Set / Test Set </li>\n",
        "<li>Élimination des NaN : dropna(), imputation, colonne\"vides\"</li>\n",
        "<li>Encodage</li>\n",
        "<li>Suppression des outliers néfastes au modèle</li>\n",
        "<li>Feature selection</li>\n",
        "<li>Feature engineering</li>\n",
        "<li>Feature scaling</li>\n",
        "</ol>\n",
        "\n",
        "<li><h2><b>Modelling</b></h2>\n",
        "<b>Objectif:</b> développer un modèle de machine learning capable de répondre a l'objectif final.</li>\n",
        "<ol>\n",
        "<li>Définir une fonction d'évaluation</li>\n",
        "<li>Entrainement de différents modèles</li>\n",
        "<li>Optimisation avec GridSearchCV</li>\n",
        "<li>Analyse des erreurs et retour au Preprocessing / EDA <br>\n",
        "           Learning Curve et prise de décision</li>\n",
        "</ol>\n",
        "</ol>\n",
        "\n",
        "\n"
      ]
    },
    {
      "cell_type": "markdown",
      "metadata": {
        "id": "eWa-fn1MCVQR"
      },
      "source": [
        "# **I. EXPLORATORY DATA ANALYSIS**\n",
        "\n",
        "## 1) Objectif :\n",
        "- Comprendre du mieux possible nos données (un petit pas en avant vaut mieux qu'un grand pas en arriere)\n",
        "- Développer une premiere stratégie de modélisation \n",
        "\n",
        "## 2) Analyse de Forme :\n",
        "- **variable target** : [ Votre réponse ici ]\n",
        "- **lignes et colonnes** : [ Votre réponse ici ]\n",
        "- **types de variables** : [ Votre réponse ici ]\n",
        "- **Analyse des valeurs manquantes** :\n",
        "\n",
        "    [ Votre réponse ici ]"
      ]
    },
    {
      "cell_type": "code",
      "metadata": {
        "id": "6jP9jGOu59wa"
      },
      "source": [
        "#Imports\n",
        "import numpy as np\n",
        "import pandas as pd\n",
        "import matplotlib.pyplot as plt\n",
        "import seaborn as sns"
      ],
      "execution_count": null,
      "outputs": []
    },
    {
      "cell_type": "code",
      "metadata": {
        "id": "OyRq-Rpc6c7W"
      },
      "source": [
        ""
      ],
      "execution_count": null,
      "outputs": []
    },
    {
      "cell_type": "markdown",
      "metadata": {
        "id": "hb9gnDyUDjan"
      },
      "source": [
        "## 3) Analyse de Fond :\n",
        "- **Visualisation de la target** :\n",
        "    \n",
        "    [ Votre réponse ici ]\n",
        "    \n",
        "    \n",
        "- **Signification des variables** :\n",
        "    \n",
        "    [ Votre réponse ici ]\n",
        "\n",
        "- **Relation Variables / Target** :\n",
        "\n",
        "    [ Votre réponse ici ]\n",
        "\n",
        "- **Choix de la métrique** : Etant donné le problème quelle mesure serait la plus appropriée et pourquoi? \n",
        "\n",
        "    [ Votre réponse ici ]\n",
        "\n",
        "- **Outliers et/ou autre analyse** :\n",
        "\n",
        "    [ Votre réponse ici ]"
      ]
    },
    {
      "cell_type": "code",
      "metadata": {
        "id": "YVoJWCylEIYo"
      },
      "source": [
        "#Votre code pour l'analyse de Fond"
      ],
      "execution_count": null,
      "outputs": []
    },
    {
      "cell_type": "markdown",
      "metadata": {
        "id": "6VNmeIK-ERzu"
      },
      "source": [
        "## **II) PRE-PROCESSING :**\n",
        "\n",
        "##Objectif :  \n",
        "- Transformer le data pour le mettre dans un format propice au machine learning\n",
        "\n",
        "##Explications de vos choix :\n",
        "[ Vos explications ici ] "
      ]
    },
    {
      "cell_type": "code",
      "metadata": {
        "id": "E9LmHujhE4YI"
      },
      "source": [
        "#Code pour votre pre-processing"
      ],
      "execution_count": null,
      "outputs": []
    },
    {
      "cell_type": "markdown",
      "metadata": {
        "id": "k-eORh3pFix2"
      },
      "source": [
        "##**III) MODELLING**\n",
        "\n",
        "##Objectif :  \n",
        "- Développer un modèle de machine learning capable de répondre a l'objectif final.\n",
        "\n",
        "##Explications de vos choix :\n",
        "[ Vos explications ici ]"
      ]
    },
    {
      "cell_type": "code",
      "metadata": {
        "id": "vQOvWy9qF2X0"
      },
      "source": [
        "#Code votre modelling"
      ],
      "execution_count": null,
      "outputs": []
    },
    {
      "cell_type": "markdown",
      "metadata": {
        "id": "wHj6FnRdHMVA"
      },
      "source": [
        "##**IV) Tests du modèle**##\n",
        "\n",
        "###1) Résultats obligatoires à afficher.\n",
        "Pour tester, votre modèle nous vous demandons de prédire les décisions pour les clients du fichier loan_train et d'afficher l'accuracy, le recall et la precision de vos prédictions.\n",
        "\n",
        "###2) Tests optionels\n",
        "Ceux qui le désire, peuvent essayer de prédire l'éligibilité à un prêt des clients se trouvant dans le fichier [loan_test.csv](https://moodle.vinci.be/mod/resource/view.php?id=131366) que vous pouvez aussi trouver sur moodle.\n",
        "\n",
        "Il faut alors soumettre un fichier csv contenant les prédictions dans le même ordre que les clients du fichier loan_test.csv. Ce fichier devra avoir la forme du fichier [loan_exemple_predicition_submission.csv](https://moodle.vinci.be/mod/resource/view.php?id=131366) se trouvant aussi sur moodle.\n",
        "\n",
        "Ce fichier doit être soumis en suivant ce lien : https://datahack.analyticsvidhya.com/contest/practice-problem-loan-prediction-iii/#ProblemStatement\n",
        "\n",
        "C'est un concours d'entrainement accessible à tous. Vous pourrez ainsi comparer vos résultats à ceux de beaucoup d'autres\n",
        ".\n",
        "\n"
      ]
    },
    {
      "cell_type": "code",
      "metadata": {
        "id": "-YlWksUxNnJ1"
      },
      "source": [
        "#Code pour vos tests et vos résultats"
      ],
      "execution_count": null,
      "outputs": []
    }
  ]
}